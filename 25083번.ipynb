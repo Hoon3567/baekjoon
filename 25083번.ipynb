{
  "nbformat": 4,
  "nbformat_minor": 0,
  "metadata": {
    "colab": {
      "name": "25083번.ipynb",
      "provenance": [],
      "authorship_tag": "ABX9TyNVPBNFwQGAicpGIEqNh+Qw",
      "include_colab_link": true
    },
    "kernelspec": {
      "name": "python3",
      "display_name": "Python 3"
    },
    "language_info": {
      "name": "python"
    }
  },
  "cells": [
    {
      "cell_type": "markdown",
      "metadata": {
        "id": "view-in-github",
        "colab_type": "text"
      },
      "source": [
        "<a href=\"https://colab.research.google.com/github/Hoon3567/baekjoon/blob/main/25083%EB%B2%88.ipynb\" target=\"_parent\"><img src=\"https://colab.research.google.com/assets/colab-badge.svg\" alt=\"Open In Colab\"/></a>"
      ]
    },
    {
      "cell_type": "code",
      "execution_count": 10,
      "metadata": {
        "colab": {
          "base_uri": "https://localhost:8080/"
        },
        "id": "trFUyOgPQWSz",
        "outputId": "e4371d6f-98d9-4808-cfb3-eb279da0069b"
      },
      "outputs": [
        {
          "output_type": "stream",
          "name": "stdout",
          "text": [
            "         ,r'\"7\n",
            "r`-_   ,'  ,/\n",
            " \\. \". L_r'\n",
            "   `~\\/\n",
            "      |\n",
            "      |\n"
          ]
        }
      ],
      "source": [
        "print(\"         ,r\\'\\\"7\")\n",
        "print(\"r`-_   ,\\'  ,/\")\n",
        "print(\" \\. \\\". L_r\\'\")\n",
        "print(\"   `~\\/\")\n",
        "print(\"      |\")\n",
        "print(\"      |\")"
      ]
    },
    {
      "cell_type": "code",
      "source": [
        ""
      ],
      "metadata": {
        "id": "GI3CpepBQbbp"
      },
      "execution_count": null,
      "outputs": []
    }
  ]
}