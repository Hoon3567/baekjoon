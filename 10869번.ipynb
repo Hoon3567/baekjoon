{
  "nbformat": 4,
  "nbformat_minor": 0,
  "metadata": {
    "colab": {
      "name": "10869번.ipynb",
      "provenance": [],
      "authorship_tag": "ABX9TyOaOU0Eg66S/vLqinKJp/1D",
      "include_colab_link": true
    },
    "kernelspec": {
      "name": "python3",
      "display_name": "Python 3"
    },
    "language_info": {
      "name": "python"
    }
  },
  "cells": [
    {
      "cell_type": "markdown",
      "metadata": {
        "id": "view-in-github",
        "colab_type": "text"
      },
      "source": [
        "<a href=\"https://colab.research.google.com/github/Hoon3567/baekjoon/blob/main/10869%EB%B2%88.ipynb\" target=\"_parent\"><img src=\"https://colab.research.google.com/assets/colab-badge.svg\" alt=\"Open In Colab\"/></a>"
      ]
    },
    {
      "cell_type": "code",
      "execution_count": 4,
      "metadata": {
        "colab": {
          "base_uri": "https://localhost:8080/"
        },
        "id": "uHhRHzR_z_VM",
        "outputId": "a88ead12-d178-43c5-b47b-110157f21542"
      },
      "outputs": [
        {
          "output_type": "stream",
          "name": "stdout",
          "text": [
            "7 3\n",
            "10\n",
            "4\n",
            "21\n",
            "2\n",
            "1\n"
          ]
        }
      ],
      "source": [
        "a, b = input().split()\n",
        "a1 = int(a)\n",
        "b1 = int(b)\n",
        "print(a1 + b1)\n",
        "print(a1 - b1)\n",
        "print(a1 * b1)\n",
        "print(int(a1 / b1))\n",
        "print(a1 % b1)"
      ]
    },
    {
      "cell_type": "code",
      "source": [
        ""
      ],
      "metadata": {
        "id": "gQWox5TC0JUj"
      },
      "execution_count": null,
      "outputs": []
    }
  ]
}