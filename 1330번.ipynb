{
  "nbformat": 4,
  "nbformat_minor": 0,
  "metadata": {
    "colab": {
      "name": "1330번.ipynb",
      "provenance": [],
      "authorship_tag": "ABX9TyNI/ccIUHpTTb0NEaQOnkJD",
      "include_colab_link": true
    },
    "kernelspec": {
      "name": "python3",
      "display_name": "Python 3"
    },
    "language_info": {
      "name": "python"
    }
  },
  "cells": [
    {
      "cell_type": "markdown",
      "metadata": {
        "id": "view-in-github",
        "colab_type": "text"
      },
      "source": [
        "<a href=\"https://colab.research.google.com/github/Hoon3567/baekjoon/blob/main/1330%EB%B2%88.ipynb\" target=\"_parent\"><img src=\"https://colab.research.google.com/assets/colab-badge.svg\" alt=\"Open In Colab\"/></a>"
      ]
    },
    {
      "cell_type": "code",
      "execution_count": 5,
      "metadata": {
        "colab": {
          "base_uri": "https://localhost:8080/"
        },
        "id": "9dlBYZE1RgnR",
        "outputId": "4a73ee73-e9c8-4c7c-e971-2cbae228da86"
      },
      "outputs": [
        {
          "output_type": "stream",
          "name": "stdout",
          "text": [
            "5 5\n",
            "==\n"
          ]
        }
      ],
      "source": [
        "a,b = map(int,input().split())\n",
        "c = a-b\n",
        "if c > 0:\n",
        "  print(\">\")\n",
        "if c < 0 : \n",
        "  print(\"<\")\n",
        "if c == 0:\n",
        "  print(\"==\")"
      ]
    },
    {
      "cell_type": "code",
      "source": [
        ""
      ],
      "metadata": {
        "id": "_K-1V2yYRqxI"
      },
      "execution_count": null,
      "outputs": []
    }
  ]
}