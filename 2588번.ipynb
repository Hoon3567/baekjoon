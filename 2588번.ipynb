{
  "nbformat": 4,
  "nbformat_minor": 0,
  "metadata": {
    "colab": {
      "name": "2588번.ipynb",
      "provenance": [],
      "authorship_tag": "ABX9TyNU1hfXN0uQSbwrPFi9Ki0m",
      "include_colab_link": true
    },
    "kernelspec": {
      "name": "python3",
      "display_name": "Python 3"
    },
    "language_info": {
      "name": "python"
    }
  },
  "cells": [
    {
      "cell_type": "markdown",
      "metadata": {
        "id": "view-in-github",
        "colab_type": "text"
      },
      "source": [
        "<a href=\"https://colab.research.google.com/github/Hoon3567/baekjoon/blob/main/2588%EB%B2%88.ipynb\" target=\"_parent\"><img src=\"https://colab.research.google.com/assets/colab-badge.svg\" alt=\"Open In Colab\"/></a>"
      ]
    },
    {
      "cell_type": "code",
      "execution_count": 10,
      "metadata": {
        "colab": {
          "base_uri": "https://localhost:8080/"
        },
        "id": "ze93Wbj8OxWd",
        "outputId": "2b2a2211-1b52-4a4d-9c6b-ea30e2de9b55"
      },
      "outputs": [
        {
          "output_type": "stream",
          "name": "stdout",
          "text": [
            "472\n",
            "385\n",
            "2360\n",
            "3776\n",
            "1416\n",
            "181720\n"
          ]
        }
      ],
      "source": [
        "a = input()\n",
        "b = input()\n",
        "a =int(a)\n",
        "b = int(b)\n",
        "b1 = int(b%10)\n",
        "b2 = int((b/10)%10)\n",
        "b3 = int((b/100)%10)\n",
        "print(a*b1)\n",
        "print(a*b2)\n",
        "print(a*b3)\n",
        "print(a*b)"
      ]
    },
    {
      "cell_type": "code",
      "source": [
        "3"
      ],
      "metadata": {
        "id": "3Nm1Vz34PhrL"
      },
      "execution_count": null,
      "outputs": []
    }
  ]
}